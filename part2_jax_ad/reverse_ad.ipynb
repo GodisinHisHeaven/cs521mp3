{
 "cells": [
  {
   "cell_type": "code",
   "execution_count": null,
   "id": "878c20c5",
   "metadata": {
    "vscode": {
     "languageId": "plaintext"
    }
   },
   "outputs": [],
   "source": [
    "!pip install jax jaxlib"
   ]
  }
 ],
 "metadata": {
  "language_info": {
   "name": "python"
  }
 },
 "nbformat": 4,
 "nbformat_minor": 5
}
