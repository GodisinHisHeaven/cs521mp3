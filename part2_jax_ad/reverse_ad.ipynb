{
  "cells": [
    {
      "cell_type": "code",
      "execution_count": 1,
      "id": "878c20c5",
      "metadata": {
        "vscode": {
          "languageId": "plaintext"
        },
        "id": "878c20c5",
        "outputId": "ddd2b020-857b-4a01-cdf0-e60902198af5",
        "colab": {
          "base_uri": "https://localhost:8080/"
        }
      },
      "outputs": [
        {
          "output_type": "stream",
          "name": "stdout",
          "text": [
            "Requirement already satisfied: jax in /usr/local/lib/python3.11/dist-packages (0.5.2)\n",
            "Requirement already satisfied: jaxlib in /usr/local/lib/python3.11/dist-packages (0.5.1)\n",
            "Requirement already satisfied: ml_dtypes>=0.4.0 in /usr/local/lib/python3.11/dist-packages (from jax) (0.4.1)\n",
            "Requirement already satisfied: numpy>=1.25 in /usr/local/lib/python3.11/dist-packages (from jax) (2.0.2)\n",
            "Requirement already satisfied: opt_einsum in /usr/local/lib/python3.11/dist-packages (from jax) (3.4.0)\n",
            "Requirement already satisfied: scipy>=1.11.1 in /usr/local/lib/python3.11/dist-packages (from jax) (1.14.1)\n"
          ]
        }
      ],
      "source": [
        "!pip install jax jaxlib"
      ]
    },
    {
      "cell_type": "code",
      "source": [
        "import jax\n",
        "import jax.numpy as jnp\n",
        "from jax import grad, jit, vmap, make_jaxpr\n",
        "import timeit"
      ],
      "metadata": {
        "id": "6DGijOSLyeXd"
      },
      "id": "6DGijOSLyeXd",
      "execution_count": 2,
      "outputs": []
    },
    {
      "cell_type": "code",
      "source": [
        "def f(x1, x2):\n",
        "    return jnp.log(x1) + x1 * x2 - jnp.sin(x2)\n",
        "\n",
        "dy_dx1 = grad(f, argnums=0)\n",
        "dy_dx2 = grad(f, argnums=1)"
      ],
      "metadata": {
        "id": "bhnDXGYMygth"
      },
      "id": "bhnDXGYMygth",
      "execution_count": 3,
      "outputs": []
    },
    {
      "cell_type": "code",
      "source": [
        "x1, x2 = 2.0, 5.0\n",
        "print(\"f(x1, x2)  =\", f(x1, x2))\n",
        "print(\"∂f/∂x1     =\", dy_dx1(x1, x2))\n",
        "print(\"∂f/∂x2     =\", dy_dx2(x1, x2))"
      ],
      "metadata": {
        "id": "l_ikbvmTykNY",
        "outputId": "f13c4456-cd05-402e-850e-bf81a3fa6e97",
        "colab": {
          "base_uri": "https://localhost:8080/"
        }
      },
      "id": "l_ikbvmTykNY",
      "execution_count": 4,
      "outputs": [
        {
          "output_type": "stream",
          "name": "stdout",
          "text": [
            "f(x1, x2)  = 11.652072\n",
            "∂f/∂x1     = 5.5\n",
            "∂f/∂x2     = 1.7163378\n"
          ]
        }
      ]
    },
    {
      "cell_type": "code",
      "source": [
        "\n",
        "print(\"JAXPR for ∂f/∂x1:\")\n",
        "print(make_jaxpr(dy_dx1)(x1, x2))\n",
        "\n",
        "print(\"\\nJAXPR for ∂f/∂x2:\")\n",
        "print(make_jaxpr(dy_dx2)(x1, x2))"
      ],
      "metadata": {
        "id": "BmBUzpX5ynsv",
        "outputId": "f05cc0eb-bd3b-47aa-edc4-44a0eba89f9d",
        "colab": {
          "base_uri": "https://localhost:8080/"
        }
      },
      "id": "BmBUzpX5ynsv",
      "execution_count": 5,
      "outputs": [
        {
          "output_type": "stream",
          "name": "stdout",
          "text": [
            "JAXPR for ∂f/∂x1:\n",
            "{ lambda ; a:f32[] b:f32[]. let\n",
            "    c:f32[] = log a\n",
            "    d:f32[] = mul a b\n",
            "    e:f32[] = add c d\n",
            "    f:f32[] = sin b\n",
            "    _:f32[] = sub e f\n",
            "    g:f32[] = mul 1.0 b\n",
            "    h:f32[] = div 1.0 a\n",
            "    i:f32[] = add_any g h\n",
            "  in (i,) }\n",
            "\n",
            "JAXPR for ∂f/∂x2:\n",
            "{ lambda ; a:f32[] b:f32[]. let\n",
            "    c:f32[] = log a\n",
            "    d:f32[] = mul a b\n",
            "    e:f32[] = add c d\n",
            "    f:f32[] = sin b\n",
            "    g:f32[] = cos b\n",
            "    _:f32[] = sub e f\n",
            "    h:f32[] = neg 1.0\n",
            "    i:f32[] = mul h g\n",
            "    j:f32[] = mul a 1.0\n",
            "    k:f32[] = add_any i j\n",
            "  in (k,) }\n"
          ]
        }
      ]
    },
    {
      "cell_type": "code",
      "source": [
        "\n",
        "g1 = lambda x1, x2: (jit(f)(x1, x2), jit(dy_dx1)(x1, x2), jit(dy_dx2)(x1, x2))\n",
        "g2 = jit(lambda x1, x2: (f(x1, x2), dy_dx1(x1, x2), dy_dx2(x1, x2)))\n",
        "\n",
        "print(\"g1 timing (1000 runs):\")\n",
        "print(timeit.timeit(lambda: g1(2.0, 5.0), number=1000), \"sec\")\n",
        "\n",
        "print(\"g2 timing (1000 runs):\")\n",
        "print(timeit.timeit(lambda: g2(2.0, 5.0), number=1000), \"sec\")"
      ],
      "metadata": {
        "id": "KZjqtqMX0qoJ",
        "outputId": "3e314cbb-1e28-402b-8061-ed12ea818124",
        "colab": {
          "base_uri": "https://localhost:8080/"
        }
      },
      "id": "KZjqtqMX0qoJ",
      "execution_count": 12,
      "outputs": [
        {
          "output_type": "stream",
          "name": "stdout",
          "text": [
            "g1 timing (1000 runs):\n",
            "0.42857839599992076 sec\n",
            "g2 timing (1000 runs):\n",
            "0.07183710800006793 sec\n"
          ]
        }
      ]
    },
    {
      "cell_type": "code",
      "source": [
        "x1s = jnp.linspace(1.0, 10.0, 1000)\n",
        "x2s = x1s + 1\n",
        "\n",
        "# a) Batch both\n",
        "batch1 = vmap(g2, in_axes=(0, 0))\n",
        "out1 = batch1(x1s, x2s)\n",
        "\n",
        "# b) Batch x1 only, fix x2\n",
        "batch2 = vmap(g2, in_axes=(0, None))\n",
        "out2 = batch2(x1s, 0.5)\n",
        "\n",
        "print(\"First 5 results (batch1):\", out1[0][:5])\n",
        "print(\"First 5 results (batch2):\", out2[0][:5])"
      ],
      "metadata": {
        "id": "Cyy_yPCZ0r_1",
        "outputId": "33c3e879-d8cd-4ae2-ee82-f170c3cac558",
        "colab": {
          "base_uri": "https://localhost:8080/"
        }
      },
      "id": "Cyy_yPCZ0r_1",
      "execution_count": 13,
      "outputs": [
        {
          "output_type": "stream",
          "name": "stdout",
          "text": [
            "First 5 results (batch1): [1.0907025 1.1305652 1.1705842 1.2107604 1.2510945]\n",
            "First 5 results (batch2): [0.02057445 0.0340476  0.04744107 0.06075621 0.07399434]\n"
          ]
        }
      ]
    }
  ],
  "metadata": {
    "language_info": {
      "name": "python"
    },
    "colab": {
      "provenance": []
    },
    "kernelspec": {
      "name": "python3",
      "display_name": "Python 3"
    }
  },
  "nbformat": 4,
  "nbformat_minor": 5
}